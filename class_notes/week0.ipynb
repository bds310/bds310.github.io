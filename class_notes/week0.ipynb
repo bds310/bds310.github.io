{
 "cells": [
  {
   "cell_type": "markdown",
   "metadata": {},
   "source": [
    "# Week 0: Introduction to Python\n",
    "\n",
    "In this notebook, we will cover some concepts in Python, including:\n",
    "1. Variable assignment\n",
    "2. Data types\n",
    "3. Math in Python\n",
    "4. Print statements"
   ]
  },
  {
   "cell_type": "markdown",
   "metadata": {},
   "source": [
    "## 1. Variable Assignment\n",
    "\n",
    "A **variable** in Python is simply a way to store data so you can reference and or change it later. You can think of a variable as a labeled box that holds a value. \n",
    "\n",
    "variable rules:\n",
    "- You can assign a variable to a value using the equals sign `=` ex: variable = value.\n",
    "- variable names can't start with a number (for example the variable name `5head` won't work, but `fivehead` will)\n",
    "- variable names also can't have spaces in them (`five head` won't work, but `five_head` will)"
   ]
  },
  {
   "cell_type": "code",
   "execution_count": 117,
   "metadata": {},
   "outputs": [
    {
     "name": "stdout",
     "output_type": "stream",
     "text": [
      "10\n"
     ]
    }
   ],
   "source": [
    "# Here I assign a variable I chose to name \"x\" to hold the integer value 10...\n",
    "\n",
    "x = 10\n",
    "\n",
    "# I can see the value assigned to x by printing it with the print() function (more on print later)\n",
    "print(x)"
   ]
  },
  {
   "cell_type": "code",
   "execution_count": 133,
   "metadata": {},
   "outputs": [
    {
     "data": {
      "text/plain": [
       "10"
      ]
     },
     "execution_count": 133,
     "metadata": {},
     "output_type": "execute_result"
    }
   ],
   "source": [
    "# Also, a useful tip for jupyter notebooks is that the last variable/value/command you put in a cell will print to output without having to use print().\n",
    "x"
   ]
  },
  {
   "cell_type": "markdown",
   "metadata": {},
   "source": [
    "#### Python runs commands **sequentially**\n",
    "\n",
    "**Commands are run from top to bottom.**\n",
    "\n",
    "In the cell below, the first line `my_var = 1` is evaluated first.  \n",
    "Then it's value is printed with `print(my_var)`.\n",
    "\n",
    "This same process is then repeated when I assign `my_var = 2` and then print its value again with `print(my_var)`."
   ]
  },
  {
   "cell_type": "code",
   "execution_count": null,
   "metadata": {},
   "outputs": [],
   "source": [
    "my_var = 1\n",
    "print(my_var) # this prints 1\n",
    "\n",
    "\n",
    "my_var = 2\n",
    "print(my_var) # this prints 2"
   ]
  },
  {
   "cell_type": "markdown",
   "metadata": {},
   "source": [
    "#### Variable updating\n",
    "\n",
    "variables can be overwritten   \n",
    "variables can also reference themselves."
   ]
  },
  {
   "cell_type": "code",
   "execution_count": null,
   "metadata": {},
   "outputs": [
    {
     "name": "stdout",
     "output_type": "stream",
     "text": [
      "10\n",
      "11\n"
     ]
    }
   ],
   "source": [
    "# assigning my_var to be 10\n",
    "my_var = 10\n",
    "print(my_var)\n",
    "\n",
    "# overwriting my_var to be its current value plus 1.\n",
    "my_var = my_var + 1\n",
    "print(my_var)"
   ]
  },
  {
   "cell_type": "code",
   "execution_count": 134,
   "metadata": {},
   "outputs": [
    {
     "name": "stdout",
     "output_type": "stream",
     "text": [
      "my name is Nate\n"
     ]
    }
   ],
   "source": [
    "# there are different types of values that variables can store...\n",
    "\n",
    "# Here I assign a variable I chose to name \"y\" to the value \"my name is Nate\" \n",
    "# this type of value is categorically different from a number and we will go into that distinction in the next cell\n",
    "\n",
    "y = \"my name is Nate\"\n",
    "print(y)"
   ]
  },
  {
   "cell_type": "markdown",
   "metadata": {},
   "source": [
    "## 2. Data Types\n",
    "\n",
    "Each value has a **data type**. The data type defines what kind of information the value holds and what operations can be performed on it.\n",
    "\n",
    "Here are the most common data types in Python:\n",
    "- **Integer** (`int`): Whole numbers, such as `10` or `-42`.\n",
    "- **Float** (`float`): Decimal numbers, such as `3.14` or `-0.5`.\n",
    "- **String** (`str`): Text, such as `\"Hello\"` or `\"my name is Nate\"`.\n",
    "- **Boolean** (`bool`): Logical values, either `True` or `False`.\n",
    "\n"
   ]
  },
  {
   "cell_type": "markdown",
   "metadata": {},
   "source": [
    "### Type Inference\n",
    "Python can **know/infer** the data type of a value or varaible assigned to a value, by how the **value** is **formatted**.   \n",
    "\n",
    "For each of the code cells below I assign the variable **my_var** to a value, each time **changing** the **data type** of the value through how I format it.  \n",
    "\n",
    "I call the **type()** function on **my_var** to display the data type of the value assigned to my_var.\n"
   ]
  },
  {
   "cell_type": "code",
   "execution_count": 68,
   "metadata": {},
   "outputs": [
    {
     "data": {
      "text/plain": [
       "int"
      ]
     },
     "execution_count": 68,
     "metadata": {},
     "output_type": "execute_result"
    }
   ],
   "source": [
    "# my_var inferred as integer because there is no decimal point\n",
    "my_var = 10\n",
    "type(my_var) "
   ]
  },
  {
   "cell_type": "code",
   "execution_count": null,
   "metadata": {},
   "outputs": [
    {
     "data": {
      "text/plain": [
       "float"
      ]
     },
     "metadata": {},
     "output_type": "display_data"
    }
   ],
   "source": [
    "# my_var inferred as float because I put a decimal point\n",
    "my_var = 10.0\n",
    "type(my_var)"
   ]
  },
  {
   "cell_type": "code",
   "execution_count": 122,
   "metadata": {},
   "outputs": [
    {
     "data": {
      "text/plain": [
       "str"
      ]
     },
     "execution_count": 122,
     "metadata": {},
     "output_type": "execute_result"
    }
   ],
   "source": [
    "# my_var inferred as string becasue I put single quotes around text. Double quotes also work\n",
    "my_var = '10'\n",
    "type(my_var)"
   ]
  },
  {
   "cell_type": "code",
   "execution_count": 123,
   "metadata": {},
   "outputs": [
    {
     "data": {
      "text/plain": [
       "bool"
      ]
     },
     "execution_count": 123,
     "metadata": {},
     "output_type": "execute_result"
    }
   ],
   "source": [
    "# my_var inferred as boolean because Python recognizes True/Flase (captials needed) as booleans \n",
    "my_var = True\n",
    "type(my_var)"
   ]
  },
  {
   "cell_type": "markdown",
   "metadata": {},
   "source": [
    "### Changing types\n",
    "\n",
    "You can also change the **type** of a variable/value with pythons **type casting** functions...\n",
    "\n",
    "If a conversion is possible... and keep in mind some aren't. For example it is not possible to convert the string 'abc' to an integer.  \n",
    "These type casting functions will convert anything you put inside the parentheses to the type specified in the name...\n",
    "\n",
    "```python\n",
    "int()    \n",
    "float()  \n",
    "str()  \n",
    "bool()  \n",
    "```"
   ]
  },
  {
   "cell_type": "code",
   "execution_count": 124,
   "metadata": {},
   "outputs": [
    {
     "name": "stdout",
     "output_type": "stream",
     "text": [
      "10\n"
     ]
    },
    {
     "data": {
      "text/plain": [
       "str"
      ]
     },
     "execution_count": 124,
     "metadata": {},
     "output_type": "execute_result"
    }
   ],
   "source": [
    "# assign my_var to be the string 10\n",
    "my_var = '10'\n",
    "\n",
    "# print value of my_var\n",
    "print(my_var)\n",
    "\n",
    "# print type of my_var\n",
    "type(my_var)"
   ]
  },
  {
   "cell_type": "code",
   "execution_count": 126,
   "metadata": {},
   "outputs": [
    {
     "name": "stdout",
     "output_type": "stream",
     "text": [
      "10\n"
     ]
    },
    {
     "data": {
      "text/plain": [
       "int"
      ]
     },
     "execution_count": 126,
     "metadata": {},
     "output_type": "execute_result"
    }
   ],
   "source": [
    "# change my_var to be an integer\n",
    "my_var = int(my_var)\n",
    "\n",
    "# print value of my_var\n",
    "print(my_var)\n",
    "\n",
    "# print type of my_var\n",
    "type(my_var)\n",
    "\n",
    "\n",
    "\n",
    "# Two things happen here.\n",
    "\n",
    "# 1. int(my_var) converts the value assigned to my_var (in this case string '10') and converts it to an integer (integer 10).\n",
    "# 2. The integer 10 is then assigned to the my_var variable with the =\n",
    "\n"
   ]
  },
  {
   "cell_type": "markdown",
   "metadata": {},
   "source": [
    "#### bool() can infer True or False based on other data types.\n",
    "\n",
    "Converting numbers to bools with give False for 0 and True for anything else.\n",
    "\n",
    "This is useful in practice if you have an array of numbers (lets say some are 0) and you want to apply that array as a mask to either keep or discard information from another array. "
   ]
  },
  {
   "cell_type": "code",
   "execution_count": 91,
   "metadata": {},
   "outputs": [
    {
     "name": "stdout",
     "output_type": "stream",
     "text": [
      "False\n",
      "False\n"
     ]
    }
   ],
   "source": [
    "# bool() of 0 (int) and 0.0 (float) both evaluate to False\n",
    "print(bool(0))\n",
    "print(bool(0.0))"
   ]
  },
  {
   "cell_type": "code",
   "execution_count": 93,
   "metadata": {},
   "outputs": [
    {
     "name": "stdout",
     "output_type": "stream",
     "text": [
      "True\n",
      "True\n",
      "True\n"
     ]
    }
   ],
   "source": [
    "# bool() of any float or int other than 0 will evaluate to True\n",
    "print(bool(1))\n",
    "print(bool(0.2))\n",
    "print(bool(5))"
   ]
  },
  {
   "cell_type": "code",
   "execution_count": 97,
   "metadata": {},
   "outputs": [
    {
     "data": {
      "text/plain": [
       "False"
      ]
     },
     "execution_count": 97,
     "metadata": {},
     "output_type": "execute_result"
    }
   ],
   "source": [
    "# bool() of an empty string will also evaluate to False\n",
    "bool('')"
   ]
  },
  {
   "cell_type": "code",
   "execution_count": 98,
   "metadata": {},
   "outputs": [
    {
     "name": "stdout",
     "output_type": "stream",
     "text": [
      "True\n",
      "True\n"
     ]
    }
   ],
   "source": [
    "# bool() of any non-empty string will evaluate to True\n",
    "print(bool('asdf'))\n",
    "print(bool('123-abc'))\n"
   ]
  },
  {
   "cell_type": "markdown",
   "metadata": {},
   "source": [
    "#### Strings (str) can be confusing.\n",
    "  \n",
    "For example, say you want either the double quote character `\"` and the single quote character `'` inside your string.  \n",
    "A problem exists because these characters are both used to specify text as a string data type.\n"
   ]
  },
  {
   "cell_type": "markdown",
   "metadata": {},
   "source": [
    "##### Case 1: Simple case of no quote characters inside string"
   ]
  },
  {
   "cell_type": "code",
   "execution_count": 1,
   "metadata": {},
   "outputs": [],
   "source": [
    "# strings can be specified with surrounding single quotes '' or double quotes \"\"\n",
    "my_string = 'several characters'\n",
    "my_other_string = \"example\""
   ]
  },
  {
   "cell_type": "markdown",
   "metadata": {},
   "source": [
    "##### Case 2: One kind of quote character within string\n",
    "\n",
    "Either you want only single quotes or only double quotes within the string.\n"
   ]
  },
  {
   "cell_type": "code",
   "execution_count": 3,
   "metadata": {},
   "outputs": [],
   "source": [
    "# If only single quotes are needed inside the string, use double quotes to type cast the text as a string.\n",
    "string_single = \"It's Python's best feature\"\n",
    "\n",
    "# If only double quotes are needed inside the string, use single quotes to type cast the text as a string.\n",
    "string_double = 'She said \"he said\" and they said \"she said\"'\n"
   ]
  },
  {
   "cell_type": "markdown",
   "metadata": {},
   "source": [
    "##### Case 3: Both single quotes and double quotes are needed inside the string..."
   ]
  },
  {
   "cell_type": "markdown",
   "metadata": {},
   "source": [
    "##### Escaping quotes with \\ character\n",
    "  \n",
    "The `\\` character otherwise known as the escape character, will cause python to interpret whatever character comes after as a **literal**.  \n",
    "So if I use `\\'` within my string, I can work around the problem of also using `'` to specify my string type.  "
   ]
  },
  {
   "cell_type": "code",
   "execution_count": 13,
   "metadata": {},
   "outputs": [
    {
     "name": "stdout",
     "output_type": "stream",
     "text": [
      "excuse me ma'am can you pass the \"garlic\" bread\n"
     ]
    }
   ],
   "source": [
    "# I chose to use double quotes \"\" to type cast the string, but I also used 2 double quotes around garlic and a single quote for ma'am\n",
    "# since the type casting character can't be inside the string, I use the escape \\\" to mean literal \" within the string\n",
    "\n",
    "string_both = \"excuse me ma'am can you pass the \\\"garlic\\\" bread\"\n",
    "print(string_both)"
   ]
  },
  {
   "cell_type": "markdown",
   "metadata": {},
   "source": [
    "## 3. Math in Python\n",
    "\n",
    "Here are some examples of how math operations are written\n"
   ]
  },
  {
   "cell_type": "code",
   "execution_count": 21,
   "metadata": {},
   "outputs": [
    {
     "data": {
      "text/plain": [
       "4"
      ]
     },
     "execution_count": 21,
     "metadata": {},
     "output_type": "execute_result"
    }
   ],
   "source": [
    "# addition\n",
    "2+2"
   ]
  },
  {
   "cell_type": "code",
   "execution_count": 39,
   "metadata": {},
   "outputs": [
    {
     "data": {
      "text/plain": [
       "1"
      ]
     },
     "execution_count": 39,
     "metadata": {},
     "output_type": "execute_result"
    }
   ],
   "source": [
    "# subtraction\n",
    "3-2"
   ]
  },
  {
   "cell_type": "code",
   "execution_count": 23,
   "metadata": {},
   "outputs": [
    {
     "data": {
      "text/plain": [
       "4"
      ]
     },
     "execution_count": 23,
     "metadata": {},
     "output_type": "execute_result"
    }
   ],
   "source": [
    "# multiplication\n",
    "2*2"
   ]
  },
  {
   "cell_type": "code",
   "execution_count": 27,
   "metadata": {},
   "outputs": [
    {
     "data": {
      "text/plain": [
       "8"
      ]
     },
     "execution_count": 27,
     "metadata": {},
     "output_type": "execute_result"
    }
   ],
   "source": [
    "# exponentiation\n",
    "2**3"
   ]
  },
  {
   "cell_type": "code",
   "execution_count": 41,
   "metadata": {},
   "outputs": [
    {
     "data": {
      "text/plain": [
       "2.5"
      ]
     },
     "execution_count": 41,
     "metadata": {},
     "output_type": "execute_result"
    }
   ],
   "source": [
    "# division\n",
    "5/2"
   ]
  },
  {
   "cell_type": "code",
   "execution_count": 42,
   "metadata": {},
   "outputs": [
    {
     "data": {
      "text/plain": [
       "2"
      ]
     },
     "execution_count": 42,
     "metadata": {},
     "output_type": "execute_result"
    }
   ],
   "source": [
    "# floor division \n",
    "\n",
    "# read as: how many times does 2 fully go into 5.\n",
    "5//2"
   ]
  },
  {
   "cell_type": "code",
   "execution_count": 56,
   "metadata": {},
   "outputs": [
    {
     "data": {
      "text/plain": [
       "1"
      ]
     },
     "execution_count": 56,
     "metadata": {},
     "output_type": "execute_result"
    }
   ],
   "source": [
    "# modulo (remainder after division)\n",
    "\n",
    "# 5 modulo 2 \n",
    "5%2"
   ]
  },
  {
   "cell_type": "markdown",
   "metadata": {},
   "source": [
    "#### variables can also do math\n",
    "\n",
    "You can use variables to hold values and then use them in place of numbers"
   ]
  },
  {
   "cell_type": "code",
   "execution_count": 14,
   "metadata": {},
   "outputs": [
    {
     "name": "stdout",
     "output_type": "stream",
     "text": [
      "6\n"
     ]
    }
   ],
   "source": [
    "x = 2\n",
    "y = 3\n",
    "z = x * y\n",
    "print(z)"
   ]
  },
  {
   "cell_type": "markdown",
   "metadata": {},
   "source": [
    "#### Python follows order of operations similar to PEMDAS\n",
    "\n",
    "Note that **You can always use parentheses to control or change the order of evaluation.**  \n",
    "But it is still useful to know the default order of operations\n",
    "\n",
    "\n",
    "1. Parentheses: () — Expressions inside parentheses are evaluated first.  \n",
    "2. Exponentiation: ** — Exponentiation is evaluated next.  \n",
    "3. Multiplication, Division, Floor Division, and Modulus: *, /, //, % — These are evaluated from left to right.  \n",
    "4. Addition and Subtraction: +, - — These are evaluated from left to right.  "
   ]
  },
  {
   "cell_type": "code",
   "execution_count": 62,
   "metadata": {},
   "outputs": [
    {
     "data": {
      "text/plain": [
       "-10.0"
      ]
     },
     "execution_count": 62,
     "metadata": {},
     "output_type": "execute_result"
    }
   ],
   "source": [
    "# steps for evaluation listed below\n",
    "2 + 3 * 4 ** 2 / (1 - 5)"
   ]
  },
  {
   "cell_type": "markdown",
   "metadata": {},
   "source": [
    "Steps:\n",
    "1. Parentheses first: (1 - 5) becomes -4.\n",
    "2. Exponentiation: 4 ** 2 becomes 16.\n",
    "3. Multiplication and Division (from left to right):\n",
    "     * First, 3 * 16 = 48.\n",
    "     * Then, 48 / -4 = -12.\n",
    "4. Addition: 2 + (-12) becomes -10.\n",
    "Thus, the final result is -10.\n"
   ]
  },
  {
   "cell_type": "markdown",
   "metadata": {},
   "source": [
    "#### Use parentheses in practice\n",
    "In practice it is much easier to understand math expressions when you use parentheses becuase you don't have to think about the other rules in order of operations."
   ]
  },
  {
   "cell_type": "code",
   "execution_count": 61,
   "metadata": {},
   "outputs": [
    {
     "data": {
      "text/plain": [
       "-10.0"
      ]
     },
     "execution_count": 61,
     "metadata": {},
     "output_type": "execute_result"
    }
   ],
   "source": [
    "# same expression as above but with parentheses to show order of evaluation.\n",
    "2 + ((3 * (4 ** 2)) / (1 - 5))"
   ]
  },
  {
   "cell_type": "markdown",
   "metadata": {},
   "source": [
    "## 3. Print Statements\n",
    "\n",
    "The `print()` function is used to display output in Python. It can be used to show the value of variables, display messages, or both.\n",
    "\n",
    "### Basic Print\n",
    "You can simply pass a variable or text to `print()` to display it.\n",
    "\n"
   ]
  },
  {
   "cell_type": "code",
   "execution_count": 48,
   "metadata": {},
   "outputs": [
    {
     "name": "stdout",
     "output_type": "stream",
     "text": [
      "Look! I can print things this way\n",
      "Or, I can print this way\n"
     ]
    }
   ],
   "source": [
    "# Here is an example of using print directly on a string\n",
    "print(\"Look! I can print things this way\")\n",
    "\n",
    "# I've used print() to print the values of variables alreay in this notebook but here is another example.\n",
    "message = \"Or, I can print this way\"\n",
    "print(message)"
   ]
  },
  {
   "cell_type": "markdown",
   "metadata": {},
   "source": [
    "### Print with f-strings\n",
    "Python also supports **f-strings** (formatted string literals), which allow you to embed variables inside string strings by prefixing the string with `f`."
   ]
  },
  {
   "cell_type": "code",
   "execution_count": 20,
   "metadata": {},
   "outputs": [
    {
     "name": "stdout",
     "output_type": "stream",
     "text": [
      "I am 23 years old and will turn 24 in October 2024\n"
     ]
    }
   ],
   "source": [
    "# here I define variables age and month, and use them via f-string inside the print statement\n",
    "age =23\n",
    "month = 'October'\n",
    "\n",
    "print(f'I am {age} years old and will turn {age +1} in {month} 2024')\n",
    "\n"
   ]
  }
 ],
 "metadata": {
  "kernelspec": {
   "display_name": "bds310",
   "language": "python",
   "name": "python3"
  },
  "language_info": {
   "codemirror_mode": {
    "name": "ipython",
    "version": 3
   },
   "file_extension": ".py",
   "mimetype": "text/x-python",
   "name": "python",
   "nbconvert_exporter": "python",
   "pygments_lexer": "ipython3",
   "version": "3.9.19"
  }
 },
 "nbformat": 4,
 "nbformat_minor": 2
}
