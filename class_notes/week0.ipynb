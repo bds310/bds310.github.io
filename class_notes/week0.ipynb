{
 "cells": [
  {
   "cell_type": "markdown",
   "metadata": {},
   "source": [
    "# Week 0: Introduction to Python\n",
    "\n",
    "In this notebook, we will cover some basic concepts in Python, including:\n",
    "- Variable assignment\n",
    "- Data types\n",
    "- Print statements"
   ]
  },
  {
   "cell_type": "markdown",
   "metadata": {},
   "source": [
    "## 1. Variable Assignment\n",
    "\n",
    "A **variable** in Python is simply a way to store data so you can reference and or change it later. You can think of a variable as a labeled box that holds a value. \n",
    "\n",
    "- You can assign a value to a variable using the equals sign (`=`).\n",
    "- variable names can't start with a number (for example the variable name `5head` won't, but `fivehead` will)\n",
    "- variable names also can't have spaces in them (`five head` won't work, but `five_head` will)"
   ]
  },
  {
   "cell_type": "code",
   "execution_count": 39,
   "metadata": {},
   "outputs": [
    {
     "name": "stdout",
     "output_type": "stream",
     "text": [
      "10\n"
     ]
    }
   ],
   "source": [
    "# I can assign a variable I chose to name \"x\" to hold the integer value 10...\n",
    "\n",
    "x = 10\n",
    "\n",
    "# I can see the value variable x holds by printing it with the print() function\n",
    "print(x)"
   ]
  },
  {
   "cell_type": "code",
   "execution_count": 43,
   "metadata": {},
   "outputs": [
    {
     "name": "stdout",
     "output_type": "stream",
     "text": [
      "my name is Nate\n"
     ]
    }
   ],
   "source": [
    "# there are different types of values that variables can store...\n",
    "\n",
    "# Here I assign a variable I chose to name \"y\" to the value \"my name is Nate\" \n",
    "y = \"my name is Nate\"\n",
    "print(y)"
   ]
  },
  {
   "cell_type": "markdown",
   "metadata": {},
   "source": [
    "## 2. Data Types\n",
    "\n",
    "Each value has a **data type**. The data type defines what kind of information the value holds and what operations can be performed on it.\n",
    "\n",
    "Here are the most common data types in Python:\n",
    "- **Integer** (`int`): Whole numbers, such as `10` or `-42`.\n",
    "- **Float** (`float`): Decimal numbers, such as `3.14` or `-0.5`.\n",
    "- **String** (`str`): Text, such as `\"Hello\"` or `\"my name is Nate\"`.\n",
    "- **Boolean** (`bool`): Logical values, either `True` or `False`.\n",
    "\n",
    "Let's explore these data types with some examples:"
   ]
  },
  {
   "cell_type": "code",
   "execution_count": 41,
   "metadata": {},
   "outputs": [
    {
     "name": "stdout",
     "output_type": "stream",
     "text": [
      "10\n",
      "3.14\n",
      "Dr.Egon Cholakian\n",
      "True\n"
     ]
    }
   ],
   "source": [
    "# More variable assignment with data type in mind\n",
    "\n",
    "my_int = 10  # read this as: variable named my_int is assigned to the integer value 10.\n",
    "\n",
    "my_float = 3.14  # read this as: variable named my_float is assigned to the floating point value 3.14.\n",
    "\n",
    "my_string = \"Dr.Egon Cholakian\"  # read this as: variable named my_string is assigned to the string value Dr.Egon Cholakian\n",
    "\n",
    "my_bool = True # read this as: variable named my_bool is assigned to the boolean value True\n",
    "\n",
    "\n",
    "# Print the values stored within each variable by calling print() on the variable name\n",
    "print(my_int) \n",
    "print(my_float)\n",
    "print(my_string)\n",
    "print(my_bool)"
   ]
  },
  {
   "cell_type": "code",
   "execution_count": 44,
   "metadata": {},
   "outputs": [
    {
     "name": "stdout",
     "output_type": "stream",
     "text": [
      "<class 'int'>\n",
      "<class 'float'>\n",
      "<class 'str'>\n",
      "<class 'bool'>\n"
     ]
    }
   ],
   "source": [
    "# Here is print the type of each variable by using the type() function within the print() function.\n",
    "print(type(my_int))\n",
    "print(type(my_float))\n",
    "print(type(my_string))\n",
    "print(type(my_bool))\n",
    "\n",
    "\n"
   ]
  },
  {
   "cell_type": "markdown",
   "metadata": {},
   "source": [
    "## 3. Print Statements\n",
    "\n",
    "The `print()` function is used to display output in Python. It can be used to show the value of variables, display messages, or both.\n",
    "\n",
    "### Basic Print\n",
    "You can simply pass a variable or text to `print()` to display it.\n",
    "\n"
   ]
  },
  {
   "cell_type": "code",
   "execution_count": 48,
   "metadata": {},
   "outputs": [
    {
     "name": "stdout",
     "output_type": "stream",
     "text": [
      "Look! I can print things this way\n",
      "Or, I can print this way\n"
     ]
    }
   ],
   "source": [
    "# Here is an example of using print directly on a string\n",
    "print(\"Look! I can print things this way\")\n",
    "\n",
    "# I've used print() to print the values of variables alreay in this notebook but here is another example.\n",
    "message = \"Or, I can print this way\"\n",
    "print(message)"
   ]
  },
  {
   "cell_type": "markdown",
   "metadata": {},
   "source": [
    "### Print with f-strings\n",
    "Python also supports **f-strings** (formatted string literals), which allow you to embed variables inside string strings by prefixing the string with `f`."
   ]
  },
  {
   "cell_type": "code",
   "execution_count": 57,
   "metadata": {},
   "outputs": [
    {
     "name": "stdout",
     "output_type": "stream",
     "text": [
      "I am 23 years old. And will turn 24 in October\n"
     ]
    }
   ],
   "source": [
    "# here I define variables age and month, and use them via f-string inside the print statement\n",
    "age =23\n",
    "month = 'October'\n",
    "\n",
    "print(f'I am {age} years old. And will turn {age +1} in {month}')\n",
    "\n"
   ]
  },
  {
   "cell_type": "code",
   "execution_count": 42,
   "metadata": {},
   "outputs": [
    {
     "name": "stdout",
     "output_type": "stream",
     "text": [
      "Variable name: my_int, Value stored: 10, Type: <class 'int'>\n",
      "Variable name: my_float, Value stored: 3.14, Type: <class 'float'>\n",
      "Variable name: my_string, Value stored: Dr.Egon Cholakian, Type: <class 'str'>\n",
      "Variable name: my_bool, Value stored: True, Type: <class 'bool'>\n"
     ]
    }
   ],
   "source": [
    "# Here I print out each variable name along with the value it stores and what type the value is.\n",
    "\n",
    "print(f\"Variable name: my_int, Value stored: {my_int}, Type: {type(my_int)}\")\n",
    "print(f\"Variable name: my_float, Value stored: {my_float}, Type: {type(my_float)}\")\n",
    "print(f\"Variable name: my_string, Value stored: {my_string}, Type: {type(my_string)}\")\n",
    "print(f\"Variable name: my_bool, Value stored: {my_bool}, Type: {type(my_bool)}\")"
   ]
  },
  {
   "cell_type": "markdown",
   "metadata": {},
   "source": [
    "### Concepts Covered:\n",
    "1. Variable assignment: Use the = sign to assign values to variables.\n",
    "2. Common data types: Integers (int), floating-point numbers (float), strings (str), and booleans (bool).\n",
    "3. Dynamic typing: Python automatically infers the type of a variable based on its value, and the type can change.\n",
    "4. Print statements: Use the print() function to display values, and f-strings for formatting output."
   ]
  }
 ],
 "metadata": {
  "kernelspec": {
   "display_name": "bds310",
   "language": "python",
   "name": "python3"
  },
  "language_info": {
   "codemirror_mode": {
    "name": "ipython",
    "version": 3
   },
   "file_extension": ".py",
   "mimetype": "text/x-python",
   "name": "python",
   "nbconvert_exporter": "python",
   "pygments_lexer": "ipython3",
   "version": "3.9.19"
  }
 },
 "nbformat": 4,
 "nbformat_minor": 2
}
