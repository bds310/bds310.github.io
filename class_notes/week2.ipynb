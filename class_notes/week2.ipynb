{
 "cells": [
  {
   "cell_type": "markdown",
   "metadata": {},
   "source": [
    "## Week 2\n",
    "\n",
    "### Data types:"
   ]
  },
  {
   "cell_type": "code",
   "execution_count": null,
   "metadata": {},
   "outputs": [
    {
     "name": "stdout",
     "output_type": "stream",
     "text": [
      "<class 'str'>\n",
      "<class 'int'>\n",
      "<class 'float'>\n",
      "<class 'list'>\n"
     ]
    }
   ],
   "source": [
    "my_string = 'string'\n",
    "my_int = 7\n",
    "my_float = 7.0\n",
    "my_list = [7, \"petal\", \"sepal\", 5.8]\n",
    "\n",
    "print(type(my_string))\n",
    "print(type(my_int))\n",
    "print(type(my_float))\n",
    "print(type(my_list))\n"
   ]
  },
  {
   "cell_type": "markdown",
   "metadata": {},
   "source": [
    "### Numpy arrays:"
   ]
  },
  {
   "cell_type": "code",
   "execution_count": null,
   "metadata": {},
   "outputs": [
    {
     "name": "stdout",
     "output_type": "stream",
     "text": [
      "[1 1 2 3 5 8]\n",
      "<class 'numpy.ndarray'>\n"
     ]
    }
   ],
   "source": [
    "import numpy as np\n",
    "array = np.array([1,1,2,3,5,8])\n",
    "print(array)\n",
    "print(type(array))"
   ]
  },
  {
   "cell_type": "markdown",
   "metadata": {},
   "source": [
    "You can apply operations across an array:"
   ]
  },
  {
   "cell_type": "code",
   "execution_count": null,
   "metadata": {},
   "outputs": [
    {
     "name": "stdout",
     "output_type": "stream",
     "text": [
      "[2 2 3 4 6 9]\n"
     ]
    }
   ],
   "source": [
    "print(array + 1)"
   ]
  },
  {
   "cell_type": "markdown",
   "metadata": {},
   "source": [
    "### Indexing:"
   ]
  },
  {
   "cell_type": "markdown",
   "metadata": {},
   "source": [
    "Use square brackets [ ] after a list or array name to indicate which value in the list or array you want to indicate:"
   ]
  },
  {
   "cell_type": "code",
   "execution_count": null,
   "metadata": {},
   "outputs": [
    {
     "data": {
      "text/plain": [
       "1"
      ]
     },
     "metadata": {},
     "output_type": "display_data"
    }
   ],
   "source": [
    "array[0]"
   ]
  },
  {
   "cell_type": "code",
   "execution_count": null,
   "metadata": {},
   "outputs": [
    {
     "data": {
      "text/plain": [
       "9"
      ]
     },
     "metadata": {},
     "output_type": "display_data"
    }
   ],
   "source": [
    "array_2D = np.array([[1,1,2,3,5,8],[4,6,6,1,9,8]])\n",
    "array_2D[1,4]"
   ]
  },
  {
   "cell_type": "code",
   "execution_count": null,
   "metadata": {},
   "outputs": [
    {
     "data": {
      "text/plain": [
       "'sepal'"
      ]
     },
     "metadata": {},
     "output_type": "display_data"
    }
   ],
   "source": [
    "my_list[2]"
   ]
  },
  {
   "cell_type": "markdown",
   "metadata": {},
   "source": [
    "Use negatives to index off the end of the list or array:"
   ]
  },
  {
   "cell_type": "code",
   "execution_count": null,
   "metadata": {},
   "outputs": [
    {
     "data": {
      "text/plain": [
       "8"
      ]
     },
     "metadata": {},
     "output_type": "display_data"
    }
   ],
   "source": [
    "array[-1]"
   ]
  },
  {
   "cell_type": "markdown",
   "metadata": {},
   "source": [
    "### Slicing:\n",
    "Use a colon `[x:y]` to indicate \"from x up to but not including y\"\n",
    "Use two colons `[x:y:z]` to indicate \"from x up to but not including y, counting by z\"\n",
    "Omit the x and/or y values to indicate the beginning or end:\n",
    "- `[:y]` = \"from the beginning up to but not including y\"\n",
    "- `[x:]` = \"from x to the end\"\n",
    "- `[:]` = \"the whole thing\"\n",
    "- `[::-1]` = \"the whole thing in reverse (counting by -1)\"\n"
   ]
  },
  {
   "cell_type": "code",
   "execution_count": null,
   "metadata": {},
   "outputs": [
    {
     "name": "stdout",
     "output_type": "stream",
     "text": [
      "[1 2 3 5]\n",
      "[1 2 5]\n",
      "[8 5 3 2 1 1]\n"
     ]
    }
   ],
   "source": [
    "import numpy as np\n",
    "array = np.array([1,1,2,3,5,8])\n",
    "array_slice = array[1:5]\n",
    "print(array_slice)\n",
    "print(array[0:6:2]) # prints every other value\n",
    "print(array[::-1]) # prints the array in reverse"
   ]
  },
  {
   "cell_type": "markdown",
   "metadata": {},
   "source": [
    "2D arrays are sliced just as you'd indicate a Cartesian position with (x,y)\n"
   ]
  },
  {
   "cell_type": "code",
   "execution_count": null,
   "metadata": {},
   "outputs": [
    {
     "name": "stdout",
     "output_type": "stream",
     "text": [
      "ex1: [6 1 9]\n",
      "ex2: [[1 1]\n",
      " [4 6]]\n"
     ]
    }
   ],
   "source": [
    "import numpy as np\n",
    "array_2D = np.array([[1,1,2,3,5,8],[4,6,6,1,9,8]])\n",
    "print(\"ex1:\", array_2D[1,2:5]) # Row [1], Columns [2:5]\n",
    "print(\"ex2:\", array_2D[:,:2]) # All rows, the first two columns"
   ]
  }
 ],
 "metadata": {
  "language_info": {
   "name": "python"
  }
 },
 "nbformat": 4,
 "nbformat_minor": 2
}
